{
 "cells": [
  {
   "cell_type": "markdown",
   "id": "22f22c1f-157f-4ece-b530-7ce51de231e2",
   "metadata": {},
   "source": [
    "Q1. Create one variable containing following type of data: \n",
    "(1) string\n",
    "(ii) list\n",
    "(iii) float\n",
    "(iv) tuple"
   ]
  },
  {
   "cell_type": "code",
   "execution_count": 1,
   "id": "c10cd234-208d-4eb1-894e-ffa11cf73a4b",
   "metadata": {},
   "outputs": [
    {
     "name": "stdout",
     "output_type": "stream",
     "text": [
      "gayatri\n"
     ]
    }
   ],
   "source": [
    "a=\"gayatri\"\n",
    "print(a)"
   ]
  },
  {
   "cell_type": "code",
   "execution_count": 2,
   "id": "64e9602b-347d-45fa-9b7b-65876170d029",
   "metadata": {},
   "outputs": [
    {
     "name": "stdout",
     "output_type": "stream",
     "text": [
      "[1, 2, 3, 4, 5, 6]\n"
     ]
    }
   ],
   "source": [
    "a=[1,2,3,4,5,6]\n",
    "print(a)"
   ]
  },
  {
   "cell_type": "code",
   "execution_count": 3,
   "id": "b5ccb934-79cd-4ccc-a46e-a00c45bbab17",
   "metadata": {},
   "outputs": [
    {
     "name": "stdout",
     "output_type": "stream",
     "text": [
      "9.0\n"
     ]
    }
   ],
   "source": [
    "a=9.0\n",
    "print(a)"
   ]
  },
  {
   "cell_type": "code",
   "execution_count": 6,
   "id": "4ac16403-224a-41e2-a08b-63980d92cc13",
   "metadata": {},
   "outputs": [
    {
     "name": "stdout",
     "output_type": "stream",
     "text": [
      "(1, 4, 5, 'gayatri')\n"
     ]
    }
   ],
   "source": [
    "a=(1,4,5,\"gayatri\")\n",
    "print(a)"
   ]
  },
  {
   "cell_type": "markdown",
   "id": "a893aad7-2d97-43fa-b188-e3c15c0f80ac",
   "metadata": {
    "tags": []
   },
   "source": [
    "Q2. Given are some following variables containing data:\n",
    "\n",
    "(i)   var1 ='' \n",
    "(ii)  var2 = '[DS, ML, Python] \n",
    "(iii) var3 = [ 'DS', 'ML', 'Python' ]\n",
    "(iv)  var4 = 1."
   ]
  },
  {
   "cell_type": "code",
   "execution_count": 16,
   "id": "48c726b7-f271-4df1-ba90-50831abac8e4",
   "metadata": {},
   "outputs": [],
   "source": [
    "var1='' "
   ]
  },
  {
   "cell_type": "code",
   "execution_count": 23,
   "id": "56a0b8ed-035a-4a6f-96cd-e8ab038e430d",
   "metadata": {},
   "outputs": [
    {
     "data": {
      "text/plain": [
       "str"
      ]
     },
     "execution_count": 23,
     "metadata": {},
     "output_type": "execute_result"
    }
   ],
   "source": [
    "type(var1)"
   ]
  },
  {
   "cell_type": "code",
   "execution_count": null,
   "id": "8ff21cb5-2624-412a-8da3-759ac780ccc3",
   "metadata": {},
   "outputs": [],
   "source": [
    "var2 = '[DS, ML, Python]'"
   ]
  },
  {
   "cell_type": "code",
   "execution_count": 24,
   "id": "816a6ed0-de60-43d1-9e27-00d16c5dbb41",
   "metadata": {},
   "outputs": [
    {
     "data": {
      "text/plain": [
       "str"
      ]
     },
     "execution_count": 24,
     "metadata": {},
     "output_type": "execute_result"
    }
   ],
   "source": [
    "type(var2)"
   ]
  },
  {
   "cell_type": "code",
   "execution_count": 27,
   "id": "1ebf2d52-2f28-4e4e-9b8f-8423502d6139",
   "metadata": {},
   "outputs": [],
   "source": [
    "var3 = ['DS','ML','Python']"
   ]
  },
  {
   "cell_type": "code",
   "execution_count": 28,
   "id": "c4b75406-c4ba-4d1a-a875-0ba359cae22f",
   "metadata": {},
   "outputs": [
    {
     "data": {
      "text/plain": [
       "list"
      ]
     },
     "execution_count": 28,
     "metadata": {},
     "output_type": "execute_result"
    }
   ],
   "source": [
    "type(var3)"
   ]
  },
  {
   "cell_type": "code",
   "execution_count": 34,
   "id": "5b4235dc-643b-40b2-ad74-061484b076d4",
   "metadata": {},
   "outputs": [],
   "source": [
    "var4 = 1."
   ]
  },
  {
   "cell_type": "code",
   "execution_count": 35,
   "id": "28f24178-56b9-4753-98e8-efa03e93e3d9",
   "metadata": {},
   "outputs": [
    {
     "data": {
      "text/plain": [
       "float"
      ]
     },
     "execution_count": 35,
     "metadata": {},
     "output_type": "execute_result"
    }
   ],
   "source": [
    "type(var4)"
   ]
  },
  {
   "cell_type": "markdown",
   "id": "c8fa5e8a-b8cd-45be-8278-604b21b38519",
   "metadata": {},
   "source": [
    "Q3. Explain the use of the following operators using an example:\n",
    "\n",
    "i) /  \n",
    "ii) %\n",
    "iii)//\n",
    "iv)**"
   ]
  },
  {
   "cell_type": "markdown",
   "id": "2ae75c98-1558-4bb1-aef0-7d52e4970fbf",
   "metadata": {},
   "source": [
    "i) /  \n",
    "this division operator "
   ]
  },
  {
   "cell_type": "code",
   "execution_count": 36,
   "id": "ca48ec94-b7b6-444f-8685-1937e41053b8",
   "metadata": {},
   "outputs": [
    {
     "data": {
      "text/plain": [
       "0.375"
      ]
     },
     "execution_count": 36,
     "metadata": {},
     "output_type": "execute_result"
    }
   ],
   "source": [
    "3/8"
   ]
  },
  {
   "cell_type": "markdown",
   "id": "1ea56ed5-911e-4468-9006-159d2f8005a1",
   "metadata": {},
   "source": [
    "ii) %\n",
    "this is moduls operator it useing where print remainder"
   ]
  },
  {
   "cell_type": "code",
   "execution_count": 40,
   "id": "6763b96b-6077-4360-ac01-e115b63a7325",
   "metadata": {},
   "outputs": [
    {
     "data": {
      "text/plain": [
       "1"
      ]
     },
     "execution_count": 40,
     "metadata": {},
     "output_type": "execute_result"
    }
   ],
   "source": [
    "11%2"
   ]
  },
  {
   "cell_type": "markdown",
   "id": "066f1f24-b203-449f-b983-de3e1d1ea534",
   "metadata": {},
   "source": [
    "iii)//\n",
    "floor division operator it use absoulte division"
   ]
  },
  {
   "cell_type": "code",
   "execution_count": 41,
   "id": "551053d6-7307-40d6-ab4a-4bbff8e70106",
   "metadata": {},
   "outputs": [
    {
     "data": {
      "text/plain": [
       "0"
      ]
     },
     "execution_count": 41,
     "metadata": {},
     "output_type": "execute_result"
    }
   ],
   "source": [
    "2//3"
   ]
  },
  {
   "cell_type": "markdown",
   "id": "8c892ced-48cd-43d1-8a5a-f69d1e8186e5",
   "metadata": {},
   "source": [
    "iv)**\n",
    "exponential operator it used for print square or cube of number"
   ]
  },
  {
   "cell_type": "code",
   "execution_count": 42,
   "id": "7fd696b4-70e1-484b-a57e-0a4d4cfcc33f",
   "metadata": {},
   "outputs": [],
   "source": [
    "a=5**2"
   ]
  },
  {
   "cell_type": "code",
   "execution_count": 43,
   "id": "8b92054a-0464-4ecc-8a99-3b51d581ae40",
   "metadata": {},
   "outputs": [
    {
     "name": "stdout",
     "output_type": "stream",
     "text": [
      "25\n"
     ]
    }
   ],
   "source": [
    "print(a)"
   ]
  },
  {
   "cell_type": "code",
   "execution_count": 55,
   "id": "8638731f-2b05-4db2-8208-f5b628ebc5a2",
   "metadata": {},
   "outputs": [],
   "source": [
    "a=5**3"
   ]
  },
  {
   "cell_type": "markdown",
   "id": "23ab9c82-d2e1-48af-bff4-2dfc2679dda3",
   "metadata": {},
   "source": [
    "print(a)"
   ]
  },
  {
   "cell_type": "markdown",
   "id": "b231e071-e63a-4687-8b5c-8639b1c1d02b",
   "metadata": {},
   "source": [
    "Q4. Create a list of length 10 of your choice containing multiple types of data. Using for loop print the element and its data type."
   ]
  },
  {
   "cell_type": "code",
   "execution_count": 48,
   "id": "1a277804-04c4-40f9-9b66-3b1c83f7e6c3",
   "metadata": {},
   "outputs": [
    {
     "name": "stdout",
     "output_type": "stream",
     "text": [
      "gayatri <class 'str'>\n",
      "anand <class 'str'>\n",
      "90 <class 'int'>\n",
      "9.0 <class 'float'>\n",
      "66 <class 'int'>\n",
      "78 <class 'int'>\n",
      "True <class 'bool'>\n"
     ]
    }
   ],
   "source": [
    "a=['gayatri','anand',90,9.0,66,78, True ,]\n",
    "for data in a :\n",
    "  print(data ,type(data))"
   ]
  },
  {
   "cell_type": "markdown",
   "id": "e1463ca3-8d46-4a04-983d-2075de17c34d",
   "metadata": {},
   "source": [
    "Q5. Using a while loop, verify if the number A is purely divisible by number B and if so then how many times it can be divisible."
   ]
  },
  {
   "cell_type": "code",
   "execution_count": null,
   "id": "aa2ce744-ec7d-420d-b1cb-4780a185ee41",
   "metadata": {},
   "outputs": [],
   "source": [
    "A = int(input(\"Enter number A: \"))\n",
    "B = int(input(\"Enter number B: \"))\n",
    "\n",
    "if A % B == 0:\n",
    "    count = A // B  \n",
    "    print(B, \"can divide\", A , \",\" , count, \" times.\")\n",
    "else:\n",
    "    print(B, \"can't divide\", A, \"purely.\")"
   ]
  },
  {
   "cell_type": "markdown",
   "id": "400f8750-b96c-4e33-a350-ca4424862b1a",
   "metadata": {},
   "source": [
    "Q6. Create a list containing 25 int type data. Using for loop and if-else condition print if the element is divisible by 3 or not."
   ]
  },
  {
   "cell_type": "code",
   "execution_count": 50,
   "id": "7b8f91ea-dc21-4fd5-b7b8-11b05a48654b",
   "metadata": {},
   "outputs": [
    {
     "name": "stdout",
     "output_type": "stream",
     "text": [
      "element is not divisible by 3\n",
      "element is not divisible by 3\n",
      "element is divisible by 3\n",
      "element is not divisible by 3\n",
      "element is not divisible by 3\n",
      "element is divisible by 3\n",
      "element is not divisible by 3\n",
      "element is not divisible by 3\n",
      "element is divisible by 3\n",
      "element is not divisible by 3\n",
      "element is not divisible by 3\n",
      "element is divisible by 3\n",
      "element is not divisible by 3\n",
      "element is not divisible by 3\n",
      "element is divisible by 3\n",
      "element is not divisible by 3\n",
      "element is not divisible by 3\n",
      "element is divisible by 3\n",
      "element is not divisible by 3\n",
      "element is not divisible by 3\n",
      "element is divisible by 3\n",
      "element is not divisible by 3\n",
      "element is not divisible by 3\n",
      "element is divisible by 3\n",
      "element is not divisible by 3\n"
     ]
    }
   ],
   "source": [
    "a=[1,2,3,4,5,6,7,8,9,10,11,12,13,14,15,16,17,18,19,20,21,22,23,24,25]\n",
    "\n",
    "for i in a :\n",
    "    if i%3==0:\n",
    "        print(\"element is divisible by 3\")\n",
    "    else:\n",
    "        print(\"element is not divisible by 3\")"
   ]
  },
  {
   "cell_type": "markdown",
   "id": "7505257d-0ab2-4456-a594-9be7cdf045c0",
   "metadata": {},
   "source": [
    "Q7. What do you understand about mutable and immutable data types? Give examples for both showing this property."
   ]
  },
  {
   "cell_type": "markdown",
   "id": "a59cbd44-0c7c-498a-983e-091b43663cc4",
   "metadata": {},
   "source": [
    "mutabl: allows you to modify its internal state after creation.\n",
    "example :list ,set"
   ]
  },
  {
   "cell_type": "code",
   "execution_count": 51,
   "id": "70ce1cf6-632d-48ec-9651-0421ddedc46a",
   "metadata": {},
   "outputs": [
    {
     "name": "stdout",
     "output_type": "stream",
     "text": [
      "[7, 8, 9, 6, 4, 2]\n"
     ]
    }
   ],
   "source": [
    "a=[7,8,9,6,4]\n",
    "a.append(2)\n",
    "print(a)"
   ]
  },
  {
   "cell_type": "code",
   "execution_count": 54,
   "id": "cec61a09-d2ec-4866-a2ea-a16d015e863a",
   "metadata": {},
   "outputs": [
    {
     "name": "stdout",
     "output_type": "stream",
     "text": [
      "{1, 2, 34, 5, 6}\n"
     ]
    }
   ],
   "source": [
    "a={1,2,34,5}\n",
    "a.add(6)\n",
    "print(a)"
   ]
  },
  {
   "cell_type": "markdown",
   "id": "310a5935-27e1-467d-ac81-cdc325dad11e",
   "metadata": {},
   "source": [
    "immutable :if you can’t change the object’s state after you’ve created it.\n",
    "example :tuple"
   ]
  },
  {
   "cell_type": "code",
   "execution_count": null,
   "id": "f7d15d5f-8146-483d-8c5c-d3d4fecab5b6",
   "metadata": {},
   "outputs": [],
   "source": [
    "a=(1,2,3,45)"
   ]
  },
  {
   "cell_type": "code",
   "execution_count": null,
   "id": "21609aa7-bd79-4dec-8cc7-ab7ce58e3a87",
   "metadata": {},
   "outputs": [],
   "source": [
    "a=10"
   ]
  }
 ],
 "metadata": {
  "kernelspec": {
   "display_name": "Python 3 (ipykernel)",
   "language": "python",
   "name": "python3"
  },
  "language_info": {
   "codemirror_mode": {
    "name": "ipython",
    "version": 3
   },
   "file_extension": ".py",
   "mimetype": "text/x-python",
   "name": "python",
   "nbconvert_exporter": "python",
   "pygments_lexer": "ipython3",
   "version": "3.10.8"
  }
 },
 "nbformat": 4,
 "nbformat_minor": 5
}
